{
 "cells": [
  {
   "cell_type": "code",
   "execution_count": 96,
   "metadata": {},
   "outputs": [],
   "source": [
    "from config import OMDB_API"
   ]
  },
  {
   "cell_type": "code",
   "execution_count": 97,
   "metadata": {},
   "outputs": [],
   "source": [
    "import requests\n",
    "import pandas as pd"
   ]
  },
  {
   "cell_type": "markdown",
   "metadata": {},
   "source": [
    "#### Movie Friends Analysis"
   ]
  },
  {
   "cell_type": "code",
   "execution_count": 98,
   "metadata": {},
   "outputs": [],
   "source": [
    "url=\"http://www.omdbapi.com/?t=friends&plot=full&apikey=\"+OMDB_API"
   ]
  },
  {
   "cell_type": "code",
   "execution_count": 99,
   "metadata": {},
   "outputs": [
    {
     "data": {
      "text/plain": [
       "'http://www.omdbapi.com/?t=friends&plot=full&apikey=4c77845d'"
      ]
     },
     "execution_count": 99,
     "metadata": {},
     "output_type": "execute_result"
    }
   ],
   "source": [
    "url"
   ]
  },
  {
   "cell_type": "code",
   "execution_count": 100,
   "metadata": {},
   "outputs": [],
   "source": [
    "response=requests.get(url).json() #to turn json format "
   ]
  },
  {
   "cell_type": "code",
   "execution_count": 101,
   "metadata": {},
   "outputs": [
    {
     "data": {
      "text/plain": [
       "{'Title': 'Friends',\n",
       " 'Year': '1994–2004',\n",
       " 'Rated': 'TV-14',\n",
       " 'Released': '22 Sep 1994',\n",
       " 'Runtime': '22 min',\n",
       " 'Genre': 'Comedy, Romance',\n",
       " 'Director': 'N/A',\n",
       " 'Writer': 'David Crane, Marta Kauffman',\n",
       " 'Actors': 'Jennifer Aniston, Courteney Cox, Lisa Kudrow',\n",
       " 'Plot': 'Ross Geller, Rachel Green, Monica Geller, Joey Tribbiani, Chandler Bing, and Phoebe Buffay are six twenty-somethings living in New York City. Over the course of 10 years and seasons, these friends go through life lessons, family, love, drama, friendship, and comedy.',\n",
       " 'Language': 'English, Spanish, Italian, French, Dutch, Hebrew',\n",
       " 'Country': 'United States',\n",
       " 'Awards': 'Won 6 Primetime Emmys. 79 wins & 231 nominations total',\n",
       " 'Poster': 'https://m.media-amazon.com/images/M/MV5BNDVkYjU0MzctMWRmZi00NTkxLTgwZWEtOWVhYjZlYjllYmU4XkEyXkFqcGdeQXVyNTA4NzY1MzY@._V1_SX300.jpg',\n",
       " 'Ratings': [{'Source': 'Internet Movie Database', 'Value': '8.9/10'}],\n",
       " 'Metascore': 'N/A',\n",
       " 'imdbRating': '8.9',\n",
       " 'imdbVotes': '1,060,958',\n",
       " 'imdbID': 'tt0108778',\n",
       " 'Type': 'series',\n",
       " 'totalSeasons': '10',\n",
       " 'Response': 'True'}"
      ]
     },
     "execution_count": 101,
     "metadata": {},
     "output_type": "execute_result"
    }
   ],
   "source": [
    "response"
   ]
  },
  {
   "cell_type": "markdown",
   "metadata": {},
   "source": [
    "Analyze by methods"
   ]
  },
  {
   "cell_type": "code",
   "execution_count": 102,
   "metadata": {},
   "outputs": [],
   "source": [
    "def get_movie_friends(response):\n",
    "    all_data = []\n",
    "\n",
    "    for item in response:\n",
    "        data = {'Title': response['Title'],\n",
    "                'Year': response['Year'],\n",
    "                'Realeased Date':response['Released'],\n",
    "                'Movie Type': response['Genre'],\n",
    "                'Actors': response['Actors'],\n",
    "                'totalSeasons': response['totalSeasons'],\n",
    "                'Language': response['Language'],\n",
    "        }\n",
    "        all_data.append(data)\n",
    "    return pd.DataFrame(all_data)"
   ]
  },
  {
   "cell_type": "code",
   "execution_count": 103,
   "metadata": {},
   "outputs": [],
   "source": [
    "movie_ids=get_movie_friends(response)"
   ]
  },
  {
   "cell_type": "code",
   "execution_count": 104,
   "metadata": {},
   "outputs": [
    {
     "data": {
      "text/html": [
       "<div>\n",
       "<style scoped>\n",
       "    .dataframe tbody tr th:only-of-type {\n",
       "        vertical-align: middle;\n",
       "    }\n",
       "\n",
       "    .dataframe tbody tr th {\n",
       "        vertical-align: top;\n",
       "    }\n",
       "\n",
       "    .dataframe thead th {\n",
       "        text-align: right;\n",
       "    }\n",
       "</style>\n",
       "<table border=\"1\" class=\"dataframe\">\n",
       "  <thead>\n",
       "    <tr style=\"text-align: right;\">\n",
       "      <th></th>\n",
       "      <th>Title</th>\n",
       "      <th>Year</th>\n",
       "      <th>Realeased Date</th>\n",
       "      <th>Movie Type</th>\n",
       "      <th>Actors</th>\n",
       "      <th>totalSeasons</th>\n",
       "      <th>Language</th>\n",
       "    </tr>\n",
       "  </thead>\n",
       "  <tbody>\n",
       "    <tr>\n",
       "      <th>0</th>\n",
       "      <td>Friends</td>\n",
       "      <td>1994–2004</td>\n",
       "      <td>22 Sep 1994</td>\n",
       "      <td>Comedy, Romance</td>\n",
       "      <td>Jennifer Aniston, Courteney Cox, Lisa Kudrow</td>\n",
       "      <td>10</td>\n",
       "      <td>English, Spanish, Italian, French, Dutch, Hebrew</td>\n",
       "    </tr>\n",
       "  </tbody>\n",
       "</table>\n",
       "</div>"
      ],
      "text/plain": [
       "     Title       Year Realeased Date       Movie Type  \\\n",
       "0  Friends  1994–2004    22 Sep 1994  Comedy, Romance   \n",
       "\n",
       "                                         Actors totalSeasons  \\\n",
       "0  Jennifer Aniston, Courteney Cox, Lisa Kudrow           10   \n",
       "\n",
       "                                           Language  \n",
       "0  English, Spanish, Italian, French, Dutch, Hebrew  "
      ]
     },
     "execution_count": 104,
     "metadata": {},
     "output_type": "execute_result"
    }
   ],
   "source": [
    "movie_ids.head(1)"
   ]
  },
  {
   "cell_type": "code",
   "execution_count": 105,
   "metadata": {},
   "outputs": [],
   "source": [
    "movie_ids[\"Actors\"]=movie_ids[\"Actors\"].str.split(\",\")"
   ]
  },
  {
   "cell_type": "code",
   "execution_count": 106,
   "metadata": {},
   "outputs": [],
   "source": [
    "movie_ids = movie_ids.join(movie_ids['Actors'].apply(pd.Series).add_prefix('Actor'))"
   ]
  },
  {
   "cell_type": "code",
   "execution_count": 107,
   "metadata": {},
   "outputs": [],
   "source": [
    "movie_ids[\"Language\"]=movie_ids[\"Language\"].str.split(\",\")"
   ]
  },
  {
   "cell_type": "code",
   "execution_count": 108,
   "metadata": {},
   "outputs": [],
   "source": [
    "movie_ids = movie_ids.join(movie_ids['Language'].apply(pd.Series).add_prefix('Language'))"
   ]
  },
  {
   "cell_type": "code",
   "execution_count": 109,
   "metadata": {},
   "outputs": [
    {
     "data": {
      "text/html": [
       "<div>\n",
       "<style scoped>\n",
       "    .dataframe tbody tr th:only-of-type {\n",
       "        vertical-align: middle;\n",
       "    }\n",
       "\n",
       "    .dataframe tbody tr th {\n",
       "        vertical-align: top;\n",
       "    }\n",
       "\n",
       "    .dataframe thead th {\n",
       "        text-align: right;\n",
       "    }\n",
       "</style>\n",
       "<table border=\"1\" class=\"dataframe\">\n",
       "  <thead>\n",
       "    <tr style=\"text-align: right;\">\n",
       "      <th></th>\n",
       "      <th>0</th>\n",
       "    </tr>\n",
       "  </thead>\n",
       "  <tbody>\n",
       "    <tr>\n",
       "      <th>Title</th>\n",
       "      <td>Friends</td>\n",
       "    </tr>\n",
       "    <tr>\n",
       "      <th>Year</th>\n",
       "      <td>1994–2004</td>\n",
       "    </tr>\n",
       "    <tr>\n",
       "      <th>Realeased Date</th>\n",
       "      <td>22 Sep 1994</td>\n",
       "    </tr>\n",
       "    <tr>\n",
       "      <th>Movie Type</th>\n",
       "      <td>Comedy, Romance</td>\n",
       "    </tr>\n",
       "    <tr>\n",
       "      <th>Actors</th>\n",
       "      <td>[Jennifer Aniston,  Courteney Cox,  Lisa Kudrow]</td>\n",
       "    </tr>\n",
       "    <tr>\n",
       "      <th>totalSeasons</th>\n",
       "      <td>10</td>\n",
       "    </tr>\n",
       "    <tr>\n",
       "      <th>Language</th>\n",
       "      <td>[English,  Spanish,  Italian,  French,  Dutch,...</td>\n",
       "    </tr>\n",
       "    <tr>\n",
       "      <th>Actor0</th>\n",
       "      <td>Jennifer Aniston</td>\n",
       "    </tr>\n",
       "    <tr>\n",
       "      <th>Actor1</th>\n",
       "      <td>Courteney Cox</td>\n",
       "    </tr>\n",
       "    <tr>\n",
       "      <th>Actor2</th>\n",
       "      <td>Lisa Kudrow</td>\n",
       "    </tr>\n",
       "    <tr>\n",
       "      <th>Language0</th>\n",
       "      <td>English</td>\n",
       "    </tr>\n",
       "    <tr>\n",
       "      <th>Language1</th>\n",
       "      <td>Spanish</td>\n",
       "    </tr>\n",
       "    <tr>\n",
       "      <th>Language2</th>\n",
       "      <td>Italian</td>\n",
       "    </tr>\n",
       "    <tr>\n",
       "      <th>Language3</th>\n",
       "      <td>French</td>\n",
       "    </tr>\n",
       "    <tr>\n",
       "      <th>Language4</th>\n",
       "      <td>Dutch</td>\n",
       "    </tr>\n",
       "    <tr>\n",
       "      <th>Language5</th>\n",
       "      <td>Hebrew</td>\n",
       "    </tr>\n",
       "  </tbody>\n",
       "</table>\n",
       "</div>"
      ],
      "text/plain": [
       "                                                                0\n",
       "Title                                                     Friends\n",
       "Year                                                    1994–2004\n",
       "Realeased Date                                        22 Sep 1994\n",
       "Movie Type                                        Comedy, Romance\n",
       "Actors           [Jennifer Aniston,  Courteney Cox,  Lisa Kudrow]\n",
       "totalSeasons                                                   10\n",
       "Language        [English,  Spanish,  Italian,  French,  Dutch,...\n",
       "Actor0                                           Jennifer Aniston\n",
       "Actor1                                              Courteney Cox\n",
       "Actor2                                                Lisa Kudrow\n",
       "Language0                                                 English\n",
       "Language1                                                 Spanish\n",
       "Language2                                                 Italian\n",
       "Language3                                                  French\n",
       "Language4                                                   Dutch\n",
       "Language5                                                  Hebrew"
      ]
     },
     "execution_count": 109,
     "metadata": {},
     "output_type": "execute_result"
    }
   ],
   "source": [
    "movie_ids.head(1).T"
   ]
  },
  {
   "cell_type": "code",
   "execution_count": 115,
   "metadata": {},
   "outputs": [
    {
     "data": {
      "text/html": [
       "<div>\n",
       "<style scoped>\n",
       "    .dataframe tbody tr th:only-of-type {\n",
       "        vertical-align: middle;\n",
       "    }\n",
       "\n",
       "    .dataframe tbody tr th {\n",
       "        vertical-align: top;\n",
       "    }\n",
       "\n",
       "    .dataframe thead th {\n",
       "        text-align: right;\n",
       "    }\n",
       "</style>\n",
       "<table border=\"1\" class=\"dataframe\">\n",
       "  <thead>\n",
       "    <tr style=\"text-align: right;\">\n",
       "      <th></th>\n",
       "      <th>0</th>\n",
       "    </tr>\n",
       "  </thead>\n",
       "  <tbody>\n",
       "    <tr>\n",
       "      <th>Title</th>\n",
       "      <td>Friends</td>\n",
       "    </tr>\n",
       "    <tr>\n",
       "      <th>Year</th>\n",
       "      <td>1994–2004</td>\n",
       "    </tr>\n",
       "    <tr>\n",
       "      <th>Realeased Date</th>\n",
       "      <td>22 Sep 1994</td>\n",
       "    </tr>\n",
       "    <tr>\n",
       "      <th>Movie Type</th>\n",
       "      <td>Comedy, Romance</td>\n",
       "    </tr>\n",
       "    <tr>\n",
       "      <th>totalSeasons</th>\n",
       "      <td>10</td>\n",
       "    </tr>\n",
       "    <tr>\n",
       "      <th>Actor0</th>\n",
       "      <td>Jennifer Aniston</td>\n",
       "    </tr>\n",
       "    <tr>\n",
       "      <th>Actor1</th>\n",
       "      <td>Courteney Cox</td>\n",
       "    </tr>\n",
       "    <tr>\n",
       "      <th>Actor2</th>\n",
       "      <td>Lisa Kudrow</td>\n",
       "    </tr>\n",
       "    <tr>\n",
       "      <th>Language0</th>\n",
       "      <td>English</td>\n",
       "    </tr>\n",
       "    <tr>\n",
       "      <th>Language1</th>\n",
       "      <td>Spanish</td>\n",
       "    </tr>\n",
       "    <tr>\n",
       "      <th>Language2</th>\n",
       "      <td>Italian</td>\n",
       "    </tr>\n",
       "    <tr>\n",
       "      <th>Language3</th>\n",
       "      <td>French</td>\n",
       "    </tr>\n",
       "    <tr>\n",
       "      <th>Language4</th>\n",
       "      <td>Dutch</td>\n",
       "    </tr>\n",
       "    <tr>\n",
       "      <th>Language5</th>\n",
       "      <td>Hebrew</td>\n",
       "    </tr>\n",
       "  </tbody>\n",
       "</table>\n",
       "</div>"
      ],
      "text/plain": [
       "                               0\n",
       "Title                    Friends\n",
       "Year                   1994–2004\n",
       "Realeased Date       22 Sep 1994\n",
       "Movie Type       Comedy, Romance\n",
       "totalSeasons                  10\n",
       "Actor0          Jennifer Aniston\n",
       "Actor1             Courteney Cox\n",
       "Actor2               Lisa Kudrow\n",
       "Language0                English\n",
       "Language1                Spanish\n",
       "Language2                Italian\n",
       "Language3                 French\n",
       "Language4                  Dutch\n",
       "Language5                 Hebrew"
      ]
     },
     "execution_count": 115,
     "metadata": {},
     "output_type": "execute_result"
    }
   ],
   "source": [
    "movie_ids.drop(columns=[\"Actors\",\"Language\"]).head(1).T"
   ]
  },
  {
   "cell_type": "markdown",
   "metadata": {},
   "source": [
    "#### All Friend Movies that have name Friends and Season 1"
   ]
  },
  {
   "cell_type": "code",
   "execution_count": 116,
   "metadata": {},
   "outputs": [],
   "source": [
    "url1=\"http://www.omdbapi.com/?t=friends&Season=1&apikey=\"+OMDB_API"
   ]
  },
  {
   "cell_type": "code",
   "execution_count": 117,
   "metadata": {},
   "outputs": [],
   "source": [
    "response1=requests.get(url1).json() #to turn json format "
   ]
  },
  {
   "cell_type": "code",
   "execution_count": 118,
   "metadata": {},
   "outputs": [
    {
     "data": {
      "text/plain": [
       "{'Title': 'Friends',\n",
       " 'Season': '1',\n",
       " 'totalSeasons': '10',\n",
       " 'Episodes': [{'Title': 'The One Where Monica Gets a Roommate',\n",
       "   'Released': '1994-09-22',\n",
       "   'Episode': '1',\n",
       "   'imdbRating': '8.1',\n",
       "   'imdbID': 'tt0583459'},\n",
       "  {'Title': 'The One with the Sonogram at the End',\n",
       "   'Released': '1994-09-29',\n",
       "   'Episode': '2',\n",
       "   'imdbRating': '7.9',\n",
       "   'imdbID': 'tt0583647'},\n",
       "  {'Title': 'The One with the Thumb',\n",
       "   'Released': '1994-10-06',\n",
       "   'Episode': '3',\n",
       "   'imdbRating': '8.0',\n",
       "   'imdbID': 'tt0583653'},\n",
       "  {'Title': 'The One with George Stephanopoulos',\n",
       "   'Released': '1994-10-13',\n",
       "   'Episode': '4',\n",
       "   'imdbRating': '7.9',\n",
       "   'imdbID': 'tt0583521'},\n",
       "  {'Title': 'The One with the East German Laundry Detergent',\n",
       "   'Released': '1994-10-20',\n",
       "   'Episode': '5',\n",
       "   'imdbRating': '8.3',\n",
       "   'imdbID': 'tt0583599'},\n",
       "  {'Title': 'The One with the Butt',\n",
       "   'Released': '1994-10-27',\n",
       "   'Episode': '6',\n",
       "   'imdbRating': '8.0',\n",
       "   'imdbID': 'tt0583585'},\n",
       "  {'Title': 'The One with the Blackout',\n",
       "   'Released': '1994-11-03',\n",
       "   'Episode': '7',\n",
       "   'imdbRating': '8.9',\n",
       "   'imdbID': 'tt0583579'},\n",
       "  {'Title': 'The One Where Nana Dies Twice',\n",
       "   'Released': '1994-11-10',\n",
       "   'Episode': '8',\n",
       "   'imdbRating': '7.9',\n",
       "   'imdbID': 'tt0583462'},\n",
       "  {'Title': 'The One Where Underdog Gets Away',\n",
       "   'Released': '1994-11-17',\n",
       "   'Episode': '9',\n",
       "   'imdbRating': '8.1',\n",
       "   'imdbID': 'tt0583492'},\n",
       "  {'Title': 'The One with the Monkey',\n",
       "   'Released': '1994-12-15',\n",
       "   'Episode': '10',\n",
       "   'imdbRating': '7.9',\n",
       "   'imdbID': 'tt0583630'},\n",
       "  {'Title': 'The One with Mrs. Bing',\n",
       "   'Released': '1995-01-05',\n",
       "   'Episode': '11',\n",
       "   'imdbRating': '8.0',\n",
       "   'imdbID': 'tt0583534'},\n",
       "  {'Title': 'The One with the Dozen Lasagnas',\n",
       "   'Released': '1995-01-12',\n",
       "   'Episode': '12',\n",
       "   'imdbRating': '8.0',\n",
       "   'imdbID': 'tt0583598'},\n",
       "  {'Title': 'The One with the Boobies',\n",
       "   'Released': '1995-01-19',\n",
       "   'Episode': '13',\n",
       "   'imdbRating': '8.5',\n",
       "   'imdbID': 'tt0583582'},\n",
       "  {'Title': 'The One with the Candy Hearts',\n",
       "   'Released': '1995-02-09',\n",
       "   'Episode': '14',\n",
       "   'imdbRating': '8.1',\n",
       "   'imdbID': 'tt0583587'},\n",
       "  {'Title': 'The One with the Stoned Guy',\n",
       "   'Released': '1995-02-16',\n",
       "   'Episode': '15',\n",
       "   'imdbRating': '8.1',\n",
       "   'imdbID': 'tt0583649'},\n",
       "  {'Title': 'The One with Two Parts: Part 1',\n",
       "   'Released': '1995-02-23',\n",
       "   'Episode': '16',\n",
       "   'imdbRating': '8.0',\n",
       "   'imdbID': 'tt0583568'},\n",
       "  {'Title': 'The One with Two Parts: Part 2',\n",
       "   'Released': '1995-02-23',\n",
       "   'Episode': '17',\n",
       "   'imdbRating': '8.3',\n",
       "   'imdbID': 'tt0583569'},\n",
       "  {'Title': 'The One with All the Poker',\n",
       "   'Released': '1995-03-02',\n",
       "   'Episode': '18',\n",
       "   'imdbRating': '8.7',\n",
       "   'imdbID': 'tt0583510'},\n",
       "  {'Title': 'The One Where the Monkey Gets Away',\n",
       "   'Released': '1995-03-09',\n",
       "   'Episode': '19',\n",
       "   'imdbRating': '7.9',\n",
       "   'imdbID': 'tt0583493'},\n",
       "  {'Title': 'The One with the Evil Orthodontist',\n",
       "   'Released': '1995-04-06',\n",
       "   'Episode': '20',\n",
       "   'imdbRating': '7.7',\n",
       "   'imdbID': 'tt0583602'},\n",
       "  {'Title': 'The One with the Fake Monica',\n",
       "   'Released': '1995-04-27',\n",
       "   'Episode': '21',\n",
       "   'imdbRating': '7.6',\n",
       "   'imdbID': 'tt0583603'},\n",
       "  {'Title': 'The One with the Ick Factor',\n",
       "   'Released': '1995-05-04',\n",
       "   'Episode': '22',\n",
       "   'imdbRating': 'N/A',\n",
       "   'imdbID': 'tt0583616'},\n",
       "  {'Title': 'The One with the Birth',\n",
       "   'Released': '1995-05-11',\n",
       "   'Episode': '23',\n",
       "   'imdbRating': '8.6',\n",
       "   'imdbID': 'tt0583577'},\n",
       "  {'Title': 'The One Where Rachel Finds Out',\n",
       "   'Released': '1995-05-18',\n",
       "   'Episode': '24',\n",
       "   'imdbRating': '8.7',\n",
       "   'imdbID': 'tt0583469'}],\n",
       " 'Response': 'True'}"
      ]
     },
     "execution_count": 118,
     "metadata": {},
     "output_type": "execute_result"
    }
   ],
   "source": [
    "response1"
   ]
  },
  {
   "cell_type": "markdown",
   "metadata": {},
   "source": [
    " Analyze by Method"
   ]
  },
  {
   "cell_type": "code",
   "execution_count": null,
   "metadata": {},
   "outputs": [],
   "source": [
    "def get_films_friends(response1):\n",
    "    all_data = []\n",
    "\n",
    "    for item in response1[\"Episodes\"]:\n",
    "        data = {'Title': response1['Title'],\n",
    "                'Year': response1['Year'],\n",
    "                'Realeased Date':response1['Released'],\n",
    "                'Movie Type': response1['Genre'],\n",
    "                'Actors': response1['Actors'],\n",
    "                'totalSeasons': response1['totalSeasons'],\n",
    "                'Language': response1['Language'],\n",
    "        }\n",
    "        all_data.append(data)\n",
    "    return pd.DataFrame(all_data)"
   ]
  }
 ],
 "metadata": {
  "kernelspec": {
   "display_name": "Python 3",
   "language": "python",
   "name": "python3"
  },
  "language_info": {
   "codemirror_mode": {
    "name": "ipython",
    "version": 3
   },
   "file_extension": ".py",
   "mimetype": "text/x-python",
   "name": "python",
   "nbconvert_exporter": "python",
   "pygments_lexer": "ipython3",
   "version": "3.9.13"
  }
 },
 "nbformat": 4,
 "nbformat_minor": 2
}
