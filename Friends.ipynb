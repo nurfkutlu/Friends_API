{
 "cells": [
  {
   "cell_type": "code",
   "execution_count": 9,
   "metadata": {},
   "outputs": [],
   "source": [
    "from config import OMDB_API"
   ]
  },
  {
   "cell_type": "code",
   "execution_count": 10,
   "metadata": {},
   "outputs": [],
   "source": [
    "import requests\n",
    "import pandas as pd"
   ]
  },
  {
   "cell_type": "code",
   "execution_count": null,
   "metadata": {},
   "outputs": [],
   "source": [
    "# Site URL https://www.omdbapi.com/"
   ]
  },
  {
   "cell_type": "code",
   "execution_count": 11,
   "metadata": {},
   "outputs": [],
   "source": [
    "url=\"http://www.omdbapi.com/?t=friends&plot=full&apikey=\"+OMDB_API"
   ]
  },
  {
   "cell_type": "code",
   "execution_count": 12,
   "metadata": {},
   "outputs": [
    {
     "data": {
      "text/plain": [
       "'http://www.omdbapi.com/?t=friends&plot=full&apikey=4c77845d'"
      ]
     },
     "execution_count": 12,
     "metadata": {},
     "output_type": "execute_result"
    }
   ],
   "source": [
    "url"
   ]
  },
  {
   "cell_type": "code",
   "execution_count": 13,
   "metadata": {},
   "outputs": [],
   "source": [
    "response=requests.get(url).json() #to turn json format "
   ]
  },
  {
   "cell_type": "code",
   "execution_count": 14,
   "metadata": {},
   "outputs": [
    {
     "data": {
      "text/plain": [
       "{'Title': 'Friends',\n",
       " 'Year': '1994–2004',\n",
       " 'Rated': 'TV-14',\n",
       " 'Released': '22 Sep 1994',\n",
       " 'Runtime': '22 min',\n",
       " 'Genre': 'Comedy, Romance',\n",
       " 'Director': 'N/A',\n",
       " 'Writer': 'David Crane, Marta Kauffman',\n",
       " 'Actors': 'Jennifer Aniston, Courteney Cox, Lisa Kudrow',\n",
       " 'Plot': 'Ross Geller, Rachel Green, Monica Geller, Joey Tribbiani, Chandler Bing, and Phoebe Buffay are six twenty-somethings living in New York City. Over the course of 10 years and seasons, these friends go through life lessons, family, love, drama, friendship, and comedy.',\n",
       " 'Language': 'English, Spanish, Italian, French, Dutch, Hebrew',\n",
       " 'Country': 'United States',\n",
       " 'Awards': 'Won 6 Primetime Emmys. 79 wins & 231 nominations total',\n",
       " 'Poster': 'https://m.media-amazon.com/images/M/MV5BNDVkYjU0MzctMWRmZi00NTkxLTgwZWEtOWVhYjZlYjllYmU4XkEyXkFqcGdeQXVyNTA4NzY1MzY@._V1_SX300.jpg',\n",
       " 'Ratings': [{'Source': 'Internet Movie Database', 'Value': '8.9/10'}],\n",
       " 'Metascore': 'N/A',\n",
       " 'imdbRating': '8.9',\n",
       " 'imdbVotes': '1,060,958',\n",
       " 'imdbID': 'tt0108778',\n",
       " 'Type': 'series',\n",
       " 'totalSeasons': '10',\n",
       " 'Response': 'True'}"
      ]
     },
     "execution_count": 14,
     "metadata": {},
     "output_type": "execute_result"
    }
   ],
   "source": [
    "response"
   ]
  }
 ],
 "metadata": {
  "kernelspec": {
   "display_name": "Python 3",
   "language": "python",
   "name": "python3"
  },
  "language_info": {
   "codemirror_mode": {
    "name": "ipython",
    "version": 3
   },
   "file_extension": ".py",
   "mimetype": "text/x-python",
   "name": "python",
   "nbconvert_exporter": "python",
   "pygments_lexer": "ipython3",
   "version": "3.9.13"
  }
 },
 "nbformat": 4,
 "nbformat_minor": 2
}
