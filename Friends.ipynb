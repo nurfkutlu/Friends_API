{
 "cells": [
  {
   "cell_type": "code",
   "execution_count": 35,
   "metadata": {},
   "outputs": [],
   "source": [
    "from config import OMDB_API"
   ]
  },
  {
   "cell_type": "code",
   "execution_count": 36,
   "metadata": {},
   "outputs": [],
   "source": [
    "import requests\n",
    "import pandas as pd"
   ]
  },
  {
   "cell_type": "markdown",
   "metadata": {},
   "source": [
    "#### Movie Friends Analysis"
   ]
  },
  {
   "cell_type": "code",
   "execution_count": 38,
   "metadata": {},
   "outputs": [],
   "source": [
    "url=\"http://www.omdbapi.com/?t=friends&plot=full&apikey=\"+OMDB_API"
   ]
  },
  {
   "cell_type": "code",
   "execution_count": 39,
   "metadata": {},
   "outputs": [
    {
     "data": {
      "text/plain": [
       "'http://www.omdbapi.com/?t=friends&plot=full&apikey=4c77845d'"
      ]
     },
     "execution_count": 39,
     "metadata": {},
     "output_type": "execute_result"
    }
   ],
   "source": [
    "url"
   ]
  },
  {
   "cell_type": "code",
   "execution_count": 40,
   "metadata": {},
   "outputs": [],
   "source": [
    "response=requests.get(url).json() #to turn json format "
   ]
  },
  {
   "cell_type": "code",
   "execution_count": 41,
   "metadata": {},
   "outputs": [
    {
     "data": {
      "text/plain": [
       "{'Title': 'Friends',\n",
       " 'Year': '1994–2004',\n",
       " 'Rated': 'TV-14',\n",
       " 'Released': '22 Sep 1994',\n",
       " 'Runtime': '22 min',\n",
       " 'Genre': 'Comedy, Romance',\n",
       " 'Director': 'N/A',\n",
       " 'Writer': 'David Crane, Marta Kauffman',\n",
       " 'Actors': 'Jennifer Aniston, Courteney Cox, Lisa Kudrow',\n",
       " 'Plot': 'Ross Geller, Rachel Green, Monica Geller, Joey Tribbiani, Chandler Bing, and Phoebe Buffay are six twenty-somethings living in New York City. Over the course of 10 years and seasons, these friends go through life lessons, family, love, drama, friendship, and comedy.',\n",
       " 'Language': 'English, Spanish, Italian, French, Dutch, Hebrew',\n",
       " 'Country': 'United States',\n",
       " 'Awards': 'Won 6 Primetime Emmys. 79 wins & 231 nominations total',\n",
       " 'Poster': 'https://m.media-amazon.com/images/M/MV5BNDVkYjU0MzctMWRmZi00NTkxLTgwZWEtOWVhYjZlYjllYmU4XkEyXkFqcGdeQXVyNTA4NzY1MzY@._V1_SX300.jpg',\n",
       " 'Ratings': [{'Source': 'Internet Movie Database', 'Value': '8.9/10'}],\n",
       " 'Metascore': 'N/A',\n",
       " 'imdbRating': '8.9',\n",
       " 'imdbVotes': '1,060,958',\n",
       " 'imdbID': 'tt0108778',\n",
       " 'Type': 'series',\n",
       " 'totalSeasons': '10',\n",
       " 'Response': 'True'}"
      ]
     },
     "execution_count": 41,
     "metadata": {},
     "output_type": "execute_result"
    }
   ],
   "source": [
    "response"
   ]
  },
  {
   "cell_type": "markdown",
   "metadata": {},
   "source": [
    "Analyze by methods"
   ]
  },
  {
   "cell_type": "code",
   "execution_count": 51,
   "metadata": {},
   "outputs": [],
   "source": [
    "def get_movie_friends():\n",
    "    all_data = []\n",
    "\n",
    "    for item in response[\"object\"]:\n",
    "        data = {'Title': item['object']['Title'],\n",
    "                'Year': item['object']['Year'],\n",
    "                'Realeased Date': item['object']['Released'],\n",
    "                'Movie Type': item['object']['Genre'],\n",
    "                'Actors': item['object']['Actors'],\n",
    "                'Awards': item['object']['Awards'],\n",
    "        }\n",
    "        all_data.append(data)\n",
    "    return pd.DataFrame(all_data)"
   ]
  },
  {
   "cell_type": "code",
   "execution_count": 52,
   "metadata": {},
   "outputs": [
    {
     "ename": "KeyError",
     "evalue": "'object'",
     "output_type": "error",
     "traceback": [
      "\u001b[1;31m---------------------------------------------------------------------------\u001b[0m",
      "\u001b[1;31mKeyError\u001b[0m                                  Traceback (most recent call last)",
      "Cell \u001b[1;32mIn[52], line 1\u001b[0m\n\u001b[1;32m----> 1\u001b[0m movie_ids\u001b[38;5;241m=\u001b[39m\u001b[43mget_movie_friends\u001b[49m\u001b[43m(\u001b[49m\u001b[43m)\u001b[49m\n",
      "Cell \u001b[1;32mIn[51], line 4\u001b[0m, in \u001b[0;36mget_movie_friends\u001b[1;34m()\u001b[0m\n\u001b[0;32m      1\u001b[0m \u001b[38;5;28;01mdef\u001b[39;00m \u001b[38;5;21mget_movie_friends\u001b[39m():\n\u001b[0;32m      2\u001b[0m     all_data \u001b[38;5;241m=\u001b[39m []\n\u001b[1;32m----> 4\u001b[0m     \u001b[38;5;28;01mfor\u001b[39;00m item \u001b[38;5;129;01min\u001b[39;00m \u001b[43mresponse\u001b[49m\u001b[43m[\u001b[49m\u001b[38;5;124;43m\"\u001b[39;49m\u001b[38;5;124;43mobject\u001b[39;49m\u001b[38;5;124;43m\"\u001b[39;49m\u001b[43m]\u001b[49m:\n\u001b[0;32m      5\u001b[0m         data \u001b[38;5;241m=\u001b[39m {\u001b[38;5;124m'\u001b[39m\u001b[38;5;124mTitle\u001b[39m\u001b[38;5;124m'\u001b[39m: item[\u001b[38;5;124m'\u001b[39m\u001b[38;5;124mobject\u001b[39m\u001b[38;5;124m'\u001b[39m][\u001b[38;5;124m'\u001b[39m\u001b[38;5;124mTitle\u001b[39m\u001b[38;5;124m'\u001b[39m],\n\u001b[0;32m      6\u001b[0m                 \u001b[38;5;124m'\u001b[39m\u001b[38;5;124mYear\u001b[39m\u001b[38;5;124m'\u001b[39m: item[\u001b[38;5;124m'\u001b[39m\u001b[38;5;124mobject\u001b[39m\u001b[38;5;124m'\u001b[39m][\u001b[38;5;124m'\u001b[39m\u001b[38;5;124mYear\u001b[39m\u001b[38;5;124m'\u001b[39m],\n\u001b[0;32m      7\u001b[0m                 \u001b[38;5;124m'\u001b[39m\u001b[38;5;124mRealeased Date\u001b[39m\u001b[38;5;124m'\u001b[39m: item[\u001b[38;5;124m'\u001b[39m\u001b[38;5;124mobject\u001b[39m\u001b[38;5;124m'\u001b[39m][\u001b[38;5;124m'\u001b[39m\u001b[38;5;124mReleased\u001b[39m\u001b[38;5;124m'\u001b[39m],\n\u001b[1;32m   (...)\u001b[0m\n\u001b[0;32m     10\u001b[0m                 \u001b[38;5;124m'\u001b[39m\u001b[38;5;124mAwards\u001b[39m\u001b[38;5;124m'\u001b[39m: item[\u001b[38;5;124m'\u001b[39m\u001b[38;5;124mobject\u001b[39m\u001b[38;5;124m'\u001b[39m][\u001b[38;5;124m'\u001b[39m\u001b[38;5;124mAwards\u001b[39m\u001b[38;5;124m'\u001b[39m],\n\u001b[0;32m     11\u001b[0m         }\n\u001b[0;32m     12\u001b[0m         all_data\u001b[38;5;241m.\u001b[39mappend(data)\n",
      "\u001b[1;31mKeyError\u001b[0m: 'object'"
     ]
    }
   ],
   "source": [
    "movie_ids=get_movie_friends()"
   ]
  },
  {
   "cell_type": "markdown",
   "metadata": {},
   "source": [
    "#### All Friend Movies that have name Friends and Season 1"
   ]
  },
  {
   "cell_type": "code",
   "execution_count": 48,
   "metadata": {},
   "outputs": [],
   "source": [
    "url1=\"http://www.omdbapi.com/?t=friends&Season=1&apikey=\"+OMDB_API"
   ]
  },
  {
   "cell_type": "code",
   "execution_count": 49,
   "metadata": {},
   "outputs": [],
   "source": [
    "response1=requests.get(url1).json() #to turn json format "
   ]
  },
  {
   "cell_type": "code",
   "execution_count": 50,
   "metadata": {},
   "outputs": [
    {
     "data": {
      "text/plain": [
       "{'Title': 'Friends',\n",
       " 'Season': '1',\n",
       " 'totalSeasons': '10',\n",
       " 'Episodes': [{'Title': 'The One Where Monica Gets a Roommate',\n",
       "   'Released': '1994-09-22',\n",
       "   'Episode': '1',\n",
       "   'imdbRating': '8.1',\n",
       "   'imdbID': 'tt0583459'},\n",
       "  {'Title': 'The One with the Sonogram at the End',\n",
       "   'Released': '1994-09-29',\n",
       "   'Episode': '2',\n",
       "   'imdbRating': '7.9',\n",
       "   'imdbID': 'tt0583647'},\n",
       "  {'Title': 'The One with the Thumb',\n",
       "   'Released': '1994-10-06',\n",
       "   'Episode': '3',\n",
       "   'imdbRating': '8.0',\n",
       "   'imdbID': 'tt0583653'},\n",
       "  {'Title': 'The One with George Stephanopoulos',\n",
       "   'Released': '1994-10-13',\n",
       "   'Episode': '4',\n",
       "   'imdbRating': '7.9',\n",
       "   'imdbID': 'tt0583521'},\n",
       "  {'Title': 'The One with the East German Laundry Detergent',\n",
       "   'Released': '1994-10-20',\n",
       "   'Episode': '5',\n",
       "   'imdbRating': '8.3',\n",
       "   'imdbID': 'tt0583599'},\n",
       "  {'Title': 'The One with the Butt',\n",
       "   'Released': '1994-10-27',\n",
       "   'Episode': '6',\n",
       "   'imdbRating': '8.0',\n",
       "   'imdbID': 'tt0583585'},\n",
       "  {'Title': 'The One with the Blackout',\n",
       "   'Released': '1994-11-03',\n",
       "   'Episode': '7',\n",
       "   'imdbRating': '8.9',\n",
       "   'imdbID': 'tt0583579'},\n",
       "  {'Title': 'The One Where Nana Dies Twice',\n",
       "   'Released': '1994-11-10',\n",
       "   'Episode': '8',\n",
       "   'imdbRating': '7.9',\n",
       "   'imdbID': 'tt0583462'},\n",
       "  {'Title': 'The One Where Underdog Gets Away',\n",
       "   'Released': '1994-11-17',\n",
       "   'Episode': '9',\n",
       "   'imdbRating': '8.1',\n",
       "   'imdbID': 'tt0583492'},\n",
       "  {'Title': 'The One with the Monkey',\n",
       "   'Released': '1994-12-15',\n",
       "   'Episode': '10',\n",
       "   'imdbRating': '7.9',\n",
       "   'imdbID': 'tt0583630'},\n",
       "  {'Title': 'The One with Mrs. Bing',\n",
       "   'Released': '1995-01-05',\n",
       "   'Episode': '11',\n",
       "   'imdbRating': '8.0',\n",
       "   'imdbID': 'tt0583534'},\n",
       "  {'Title': 'The One with the Dozen Lasagnas',\n",
       "   'Released': '1995-01-12',\n",
       "   'Episode': '12',\n",
       "   'imdbRating': '8.0',\n",
       "   'imdbID': 'tt0583598'},\n",
       "  {'Title': 'The One with the Boobies',\n",
       "   'Released': '1995-01-19',\n",
       "   'Episode': '13',\n",
       "   'imdbRating': '8.5',\n",
       "   'imdbID': 'tt0583582'},\n",
       "  {'Title': 'The One with the Candy Hearts',\n",
       "   'Released': '1995-02-09',\n",
       "   'Episode': '14',\n",
       "   'imdbRating': '8.1',\n",
       "   'imdbID': 'tt0583587'},\n",
       "  {'Title': 'The One with the Stoned Guy',\n",
       "   'Released': '1995-02-16',\n",
       "   'Episode': '15',\n",
       "   'imdbRating': '8.1',\n",
       "   'imdbID': 'tt0583649'},\n",
       "  {'Title': 'The One with Two Parts: Part 1',\n",
       "   'Released': '1995-02-23',\n",
       "   'Episode': '16',\n",
       "   'imdbRating': '8.0',\n",
       "   'imdbID': 'tt0583568'},\n",
       "  {'Title': 'The One with Two Parts: Part 2',\n",
       "   'Released': '1995-02-23',\n",
       "   'Episode': '17',\n",
       "   'imdbRating': '8.3',\n",
       "   'imdbID': 'tt0583569'},\n",
       "  {'Title': 'The One with All the Poker',\n",
       "   'Released': '1995-03-02',\n",
       "   'Episode': '18',\n",
       "   'imdbRating': '8.7',\n",
       "   'imdbID': 'tt0583510'},\n",
       "  {'Title': 'The One Where the Monkey Gets Away',\n",
       "   'Released': '1995-03-09',\n",
       "   'Episode': '19',\n",
       "   'imdbRating': '7.9',\n",
       "   'imdbID': 'tt0583493'},\n",
       "  {'Title': 'The One with the Evil Orthodontist',\n",
       "   'Released': '1995-04-06',\n",
       "   'Episode': '20',\n",
       "   'imdbRating': '7.7',\n",
       "   'imdbID': 'tt0583602'},\n",
       "  {'Title': 'The One with the Fake Monica',\n",
       "   'Released': '1995-04-27',\n",
       "   'Episode': '21',\n",
       "   'imdbRating': '7.6',\n",
       "   'imdbID': 'tt0583603'},\n",
       "  {'Title': 'The One with the Ick Factor',\n",
       "   'Released': '1995-05-04',\n",
       "   'Episode': '22',\n",
       "   'imdbRating': 'N/A',\n",
       "   'imdbID': 'tt0583616'},\n",
       "  {'Title': 'The One with the Birth',\n",
       "   'Released': '1995-05-11',\n",
       "   'Episode': '23',\n",
       "   'imdbRating': '8.6',\n",
       "   'imdbID': 'tt0583577'},\n",
       "  {'Title': 'The One Where Rachel Finds Out',\n",
       "   'Released': '1995-05-18',\n",
       "   'Episode': '24',\n",
       "   'imdbRating': '8.7',\n",
       "   'imdbID': 'tt0583469'}],\n",
       " 'Response': 'True'}"
      ]
     },
     "execution_count": 50,
     "metadata": {},
     "output_type": "execute_result"
    }
   ],
   "source": [
    "response1"
   ]
  }
 ],
 "metadata": {
  "kernelspec": {
   "display_name": "Python 3",
   "language": "python",
   "name": "python3"
  },
  "language_info": {
   "codemirror_mode": {
    "name": "ipython",
    "version": 3
   },
   "file_extension": ".py",
   "mimetype": "text/x-python",
   "name": "python",
   "nbconvert_exporter": "python",
   "pygments_lexer": "ipython3",
   "version": "3.9.13"
  }
 },
 "nbformat": 4,
 "nbformat_minor": 2
}
